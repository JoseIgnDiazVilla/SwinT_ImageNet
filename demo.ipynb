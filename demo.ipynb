{
 "cells": [
  {
   "cell_type": "code",
   "execution_count": null,
   "id": "ff695079",
   "metadata": {},
   "outputs": [
    {
     "name": "stdout",
     "output_type": "stream",
     "text": [
      "Warning: Your Kaggle API key is readable by other users on this system! To fix this, you can run 'chmod 600 /home/jose/Desktop/projects/SwinT_ImageNet/kaggle.json'\n",
      "Starting download\n",
      "Warning: Your Kaggle API key is readable by other users on this system! To fix this, you can run 'chmod 600 /home/jose/Desktop/projects/SwinT_ImageNet/kaggle.json'\n",
      "Downloading files with Kaggle API (may take a while)...\n"
     ]
    }
   ],
   "source": [
    "!python prepare_data.py --dest /media/jose/TormentaChina/Datasets/ImageNet"
   ]
  },
  {
   "cell_type": "code",
   "execution_count": null,
   "id": "efa2733c",
   "metadata": {},
   "outputs": [],
   "source": []
  }
 ],
 "metadata": {
  "kernelspec": {
   "display_name": ".venv",
   "language": "python",
   "name": "python3"
  },
  "language_info": {
   "codemirror_mode": {
    "name": "ipython",
    "version": 3
   },
   "file_extension": ".py",
   "mimetype": "text/x-python",
   "name": "python",
   "nbconvert_exporter": "python",
   "pygments_lexer": "ipython3",
   "version": "3.10.12"
  }
 },
 "nbformat": 4,
 "nbformat_minor": 5
}
